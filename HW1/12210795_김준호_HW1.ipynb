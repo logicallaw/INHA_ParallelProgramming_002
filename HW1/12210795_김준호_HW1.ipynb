{
  "nbformat": 4,
  "nbformat_minor": 0,
  "metadata": {
    "colab": {
      "provenance": []
    },
    "kernelspec": {
      "name": "python3",
      "display_name": "Python 3"
    },
    "language_info": {
      "name": "python"
    }
  },
  "cells": [
    {
      "cell_type": "code",
      "execution_count": 28,
      "metadata": {
        "colab": {
          "base_uri": "https://localhost:8080/"
        },
        "id": "BZc9sj-f5QWr",
        "outputId": "bc1f2996-e2de-4624-df0a-222c20c1e033"
      },
      "outputs": [
        {
          "output_type": "stream",
          "name": "stdout",
          "text": [
            "Hello\n"
          ]
        }
      ],
      "source": [
        "print(\"Hello\")"
      ]
    },
    {
      "cell_type": "code",
      "source": [
        "!lscpu"
      ],
      "metadata": {
        "colab": {
          "base_uri": "https://localhost:8080/"
        },
        "id": "cO97-2xN6Bpo",
        "outputId": "c4278822-7deb-48d0-8e33-ef4d5004d5df"
      },
      "execution_count": 29,
      "outputs": [
        {
          "output_type": "stream",
          "name": "stdout",
          "text": [
            "Architecture:                x86_64\n",
            "  CPU op-mode(s):            32-bit, 64-bit\n",
            "  Address sizes:             46 bits physical, 48 bits virtual\n",
            "  Byte Order:                Little Endian\n",
            "CPU(s):                      2\n",
            "  On-line CPU(s) list:       0,1\n",
            "Vendor ID:                   GenuineIntel\n",
            "  Model name:                Intel(R) Xeon(R) CPU @ 2.20GHz\n",
            "    CPU family:              6\n",
            "    Model:                   79\n",
            "    Thread(s) per core:      2\n",
            "    Core(s) per socket:      1\n",
            "    Socket(s):               1\n",
            "    Stepping:                0\n",
            "    BogoMIPS:                4399.99\n",
            "    Flags:                   fpu vme de pse tsc msr pae mce cx8 apic sep mtrr pg\n",
            "                             e mca cmov pat pse36 clflush mmx fxsr sse sse2 ss h\n",
            "                             t syscall nx pdpe1gb rdtscp lm constant_tsc rep_goo\n",
            "                             d nopl xtopology nonstop_tsc cpuid tsc_known_freq p\n",
            "                             ni pclmulqdq ssse3 fma cx16 pcid sse4_1 sse4_2 x2ap\n",
            "                             ic movbe popcnt aes xsave avx f16c rdrand hyperviso\n",
            "                             r lahf_lm abm 3dnowprefetch ssbd ibrs ibpb stibp fs\n",
            "                             gsbase tsc_adjust bmi1 hle avx2 smep bmi2 erms invp\n",
            "                             cid rtm rdseed adx smap xsaveopt arat md_clear arch\n",
            "                             _capabilities\n",
            "Virtualization features:     \n",
            "  Hypervisor vendor:         KVM\n",
            "  Virtualization type:       full\n",
            "Caches (sum of all):         \n",
            "  L1d:                       32 KiB (1 instance)\n",
            "  L1i:                       32 KiB (1 instance)\n",
            "  L2:                        256 KiB (1 instance)\n",
            "  L3:                        55 MiB (1 instance)\n",
            "NUMA:                        \n",
            "  NUMA node(s):              1\n",
            "  NUMA node0 CPU(s):         0,1\n",
            "Vulnerabilities:             \n",
            "  Gather data sampling:      Not affected\n",
            "  Indirect target selection: Vulnerable\n",
            "  Itlb multihit:             Not affected\n",
            "  L1tf:                      Mitigation; PTE Inversion\n",
            "  Mds:                       Vulnerable; SMT Host state unknown\n",
            "  Meltdown:                  Vulnerable\n",
            "  Mmio stale data:           Vulnerable\n",
            "  Reg file data sampling:    Not affected\n",
            "  Retbleed:                  Vulnerable\n",
            "  Spec rstack overflow:      Not affected\n",
            "  Spec store bypass:         Vulnerable\n",
            "  Spectre v1:                Vulnerable: __user pointer sanitization and usercop\n",
            "                             y barriers only; no swapgs barriers\n",
            "  Spectre v2:                Vulnerable; IBPB: disabled; STIBP: disabled; PBRSB-\n",
            "                             eIBRS: Not affected; BHI: Vulnerable\n",
            "  Srbds:                     Not affected\n",
            "  Tsa:                       Not affected\n",
            "  Tsx async abort:           Vulnerable\n"
          ]
        }
      ]
    },
    {
      "cell_type": "code",
      "source": [
        "%%writefile hello.cpp\n",
        "#include <iostream>\n",
        "\n",
        "using namespace std;\n",
        "int main() {\n",
        "  cout << \"Hello Colab!\" << endl;\n",
        "  return 0;\n",
        "}"
      ],
      "metadata": {
        "colab": {
          "base_uri": "https://localhost:8080/"
        },
        "id": "eXx8DG686DDA",
        "outputId": "5eebf578-08ca-4676-cf30-930db245db6b"
      },
      "execution_count": 30,
      "outputs": [
        {
          "output_type": "stream",
          "name": "stdout",
          "text": [
            "Overwriting hello.cpp\n"
          ]
        }
      ]
    },
    {
      "cell_type": "code",
      "source": [
        "!ls"
      ],
      "metadata": {
        "colab": {
          "base_uri": "https://localhost:8080/"
        },
        "id": "pMH6NbN_7EL7",
        "outputId": "5d898262-b557-4a6a-8fc9-2f3cce46cf3e"
      },
      "execution_count": 31,
      "outputs": [
        {
          "output_type": "stream",
          "name": "stdout",
          "text": [
            "hello\t   matmul      matmul_avx.cpp  matmul_opt      sample_data\n",
            "hello.cpp  matmul_avx  matmul.cpp      matmul_opt.cpp\n"
          ]
        }
      ]
    },
    {
      "cell_type": "code",
      "source": [
        "!g++ -O2 -std=c++11 hello.cpp -o hello"
      ],
      "metadata": {
        "id": "eUl4kuEh7FMd"
      },
      "execution_count": 32,
      "outputs": []
    },
    {
      "cell_type": "code",
      "source": [
        "!./hello"
      ],
      "metadata": {
        "colab": {
          "base_uri": "https://localhost:8080/"
        },
        "id": "I5N_KX6f7blk",
        "outputId": "a08e65a1-d770-4ab6-c8ae-d482b0e5c209"
      },
      "execution_count": 33,
      "outputs": [
        {
          "output_type": "stream",
          "name": "stdout",
          "text": [
            "Hello Colab!\n"
          ]
        }
      ]
    },
    {
      "cell_type": "code",
      "source": [
        "%%writefile matmul.cpp\n",
        "#include <iostream>\n",
        "#include <chrono>\n",
        "#include <cstdlib>\n",
        "#include <ctime>\n",
        "using namespace std;\n",
        "\n",
        "void matmul(float* A, float* B, float* C, int n) {\n",
        "  for (int i = 0; i < n; i++) {\n",
        "    for (int j = 0; j < n; j++) {\n",
        "      float accum = 0;\n",
        "      for (int k = 0; k < n; k++) {\n",
        "        accum += A[i * n + k] * B[k * n + j];\n",
        "      }\n",
        "      C[i * n + j] = accum;\n",
        "    }\n",
        "  }\n",
        "}\n",
        "\n",
        "void init(float* A, int n, int m, bool zero) {\n",
        "  for (int i = 0; i < n * m; i++) {\n",
        "    A[i] = zero ? 0 : rand() / float(RAND_MAX);\n",
        "  }\n",
        "}\n",
        "\n",
        "int main() {\n",
        "  int n = 1024;\n",
        "  float* A = new float[n * n];\n",
        "  float* B = new float[n * n];\n",
        "  float* C = new float[n * n];\n",
        "\n",
        "  init(A, n, n, false);\n",
        "  init(B, n, n, false);\n",
        "  init(C, n, n, true);\n",
        "\n",
        "  auto start = chrono::high_resolution_clock::now();\n",
        "\n",
        "  matmul(A, B, C, n);\n",
        "\n",
        "  auto end = chrono::high_resolution_clock::now();\n",
        "  chrono::duration<double> diff = end - start;\n",
        "  cout << \"Execution time: \" << diff.count() << \" s\" << endl;\n",
        "  cout << \"C[0][0]: \" << C[0] << endl;\n",
        "\n",
        "  delete[] A;\n",
        "  delete[] B;\n",
        "  delete[] C;\n",
        "}"
      ],
      "metadata": {
        "colab": {
          "base_uri": "https://localhost:8080/"
        },
        "id": "k8m6sHtO7df9",
        "outputId": "e2a98a1b-6f6c-44b0-8002-ec367b3281f0"
      },
      "execution_count": 34,
      "outputs": [
        {
          "output_type": "stream",
          "name": "stdout",
          "text": [
            "Overwriting matmul.cpp\n"
          ]
        }
      ]
    },
    {
      "cell_type": "code",
      "source": [
        "!g++ -O2 -std=c++11 matmul.cpp -o matmul"
      ],
      "metadata": {
        "id": "Fk9flJ9s9Vqz"
      },
      "execution_count": 35,
      "outputs": []
    },
    {
      "cell_type": "code",
      "source": [
        "!./matmul"
      ],
      "metadata": {
        "colab": {
          "base_uri": "https://localhost:8080/"
        },
        "id": "AFI-g9Xm9aBa",
        "outputId": "528adb10-0fdb-4cde-e7b7-44f5e309cd56"
      },
      "execution_count": 36,
      "outputs": [
        {
          "output_type": "stream",
          "name": "stdout",
          "text": [
            "Execution time: 4.70074 s\n",
            "C[0][0]: 264.159\n"
          ]
        }
      ]
    },
    {
      "cell_type": "code",
      "source": [
        "%%writefile matmul_opt.cpp\n",
        "#include <iostream>\n",
        "#include <chrono>\n",
        "#include <cstdlib>\n",
        "#include <ctime>\n",
        "using namespace std;\n",
        "\n",
        "\n",
        "void init(float* A, int n, int m, bool zero) {\n",
        "  for (int i = 0; i < n * m; i++) {\n",
        "    A[i] = zero ? 0 : rand() / float(RAND_MAX);\n",
        "  }\n",
        "}\n",
        "\n",
        "void matmul(float* A, float* B, float* C, int n) {\n",
        "  float* Bt = new float[n * n];\n",
        "  init(Bt, n, n, true);\n",
        "\n",
        " for (int k = 0; k < n; k++) {\n",
        "  for(int j = 0; j < n; j++) {\n",
        "    Bt[j * n + k] = B[k * n + j];\n",
        "  }\n",
        " }\n",
        " for (int i = 0; i < n; i++) {\n",
        "  for (int j = 0; j < n; j++) {\n",
        "    float accum = 0;\n",
        "    for (int k = 0; k < n; k++) {\n",
        "      accum += A[i * n + k] * Bt[j * n + k];\n",
        "    }\n",
        "    C[i * n + j] = accum;\n",
        "  }\n",
        " }\n",
        "}\n",
        "\n",
        "int main() {\n",
        "  int n = 1024;\n",
        "  float* A = new float[n * n];\n",
        "  float* B = new float[n * n];\n",
        "  float* C = new float[n * n];\n",
        "\n",
        "  init(A, n, n, false);\n",
        "  init(B, n, n, false);\n",
        "  init(C, n, n, true);\n",
        "\n",
        "  auto start = chrono::high_resolution_clock::now();\n",
        "\n",
        "  matmul(A, B, C, n);\n",
        "\n",
        "  auto end = chrono::high_resolution_clock::now();\n",
        "  chrono::duration<double> diff = end - start;\n",
        "  cout << \"Execution time: \" << diff.count() << \" s\" << endl;\n",
        "  cout << \"C[0][0]: \" << C[0] << endl;\n",
        "\n",
        "  delete[] A;\n",
        "  delete[] B;\n",
        "  delete[] C;\n",
        "}"
      ],
      "metadata": {
        "colab": {
          "base_uri": "https://localhost:8080/"
        },
        "id": "BcmQd4Zr9g0R",
        "outputId": "fa4655b0-27cd-443b-bf7f-d06ff8089109"
      },
      "execution_count": 37,
      "outputs": [
        {
          "output_type": "stream",
          "name": "stdout",
          "text": [
            "Overwriting matmul_opt.cpp\n"
          ]
        }
      ]
    },
    {
      "cell_type": "code",
      "source": [
        "!g++ -O2 -std=c++11 matmul_opt.cpp -o matmul_opt"
      ],
      "metadata": {
        "id": "88vZAXha_K26"
      },
      "execution_count": 38,
      "outputs": []
    },
    {
      "cell_type": "code",
      "source": [
        "!./matmul_opt"
      ],
      "metadata": {
        "colab": {
          "base_uri": "https://localhost:8080/"
        },
        "id": "HHw7jvPb_U3z",
        "outputId": "919d71a7-31d0-4b5a-ed38-6d510b8bc267"
      },
      "execution_count": 39,
      "outputs": [
        {
          "output_type": "stream",
          "name": "stdout",
          "text": [
            "Execution time: 1.65773 s\n",
            "C[0][0]: 264.159\n"
          ]
        }
      ]
    },
    {
      "cell_type": "code",
      "source": [
        "!ls-cpu"
      ],
      "metadata": {
        "colab": {
          "base_uri": "https://localhost:8080/"
        },
        "id": "N4PSuRmn_Zsl",
        "outputId": "56def67c-2763-42cb-8652-d32aee74d4fd"
      },
      "execution_count": 40,
      "outputs": [
        {
          "output_type": "stream",
          "name": "stdout",
          "text": [
            "/bin/bash: line 1: ls-cpu: command not found\n"
          ]
        }
      ]
    },
    {
      "cell_type": "code",
      "source": [
        "!lscpu"
      ],
      "metadata": {
        "colab": {
          "base_uri": "https://localhost:8080/"
        },
        "id": "iRkl_hxHAP3Z",
        "outputId": "108cc263-76cf-40c8-97cb-ec0b5ba8ffd4"
      },
      "execution_count": 41,
      "outputs": [
        {
          "output_type": "stream",
          "name": "stdout",
          "text": [
            "Architecture:                x86_64\n",
            "  CPU op-mode(s):            32-bit, 64-bit\n",
            "  Address sizes:             46 bits physical, 48 bits virtual\n",
            "  Byte Order:                Little Endian\n",
            "CPU(s):                      2\n",
            "  On-line CPU(s) list:       0,1\n",
            "Vendor ID:                   GenuineIntel\n",
            "  Model name:                Intel(R) Xeon(R) CPU @ 2.20GHz\n",
            "    CPU family:              6\n",
            "    Model:                   79\n",
            "    Thread(s) per core:      2\n",
            "    Core(s) per socket:      1\n",
            "    Socket(s):               1\n",
            "    Stepping:                0\n",
            "    BogoMIPS:                4399.99\n",
            "    Flags:                   fpu vme de pse tsc msr pae mce cx8 apic sep mtrr pg\n",
            "                             e mca cmov pat pse36 clflush mmx fxsr sse sse2 ss h\n",
            "                             t syscall nx pdpe1gb rdtscp lm constant_tsc rep_goo\n",
            "                             d nopl xtopology nonstop_tsc cpuid tsc_known_freq p\n",
            "                             ni pclmulqdq ssse3 fma cx16 pcid sse4_1 sse4_2 x2ap\n",
            "                             ic movbe popcnt aes xsave avx f16c rdrand hyperviso\n",
            "                             r lahf_lm abm 3dnowprefetch ssbd ibrs ibpb stibp fs\n",
            "                             gsbase tsc_adjust bmi1 hle avx2 smep bmi2 erms invp\n",
            "                             cid rtm rdseed adx smap xsaveopt arat md_clear arch\n",
            "                             _capabilities\n",
            "Virtualization features:     \n",
            "  Hypervisor vendor:         KVM\n",
            "  Virtualization type:       full\n",
            "Caches (sum of all):         \n",
            "  L1d:                       32 KiB (1 instance)\n",
            "  L1i:                       32 KiB (1 instance)\n",
            "  L2:                        256 KiB (1 instance)\n",
            "  L3:                        55 MiB (1 instance)\n",
            "NUMA:                        \n",
            "  NUMA node(s):              1\n",
            "  NUMA node0 CPU(s):         0,1\n",
            "Vulnerabilities:             \n",
            "  Gather data sampling:      Not affected\n",
            "  Indirect target selection: Vulnerable\n",
            "  Itlb multihit:             Not affected\n",
            "  L1tf:                      Mitigation; PTE Inversion\n",
            "  Mds:                       Vulnerable; SMT Host state unknown\n",
            "  Meltdown:                  Vulnerable\n",
            "  Mmio stale data:           Vulnerable\n",
            "  Reg file data sampling:    Not affected\n",
            "  Retbleed:                  Vulnerable\n",
            "  Spec rstack overflow:      Not affected\n",
            "  Spec store bypass:         Vulnerable\n",
            "  Spectre v1:                Vulnerable: __user pointer sanitization and usercop\n",
            "                             y barriers only; no swapgs barriers\n",
            "  Spectre v2:                Vulnerable; IBPB: disabled; STIBP: disabled; PBRSB-\n",
            "                             eIBRS: Not affected; BHI: Vulnerable\n",
            "  Srbds:                     Not affected\n",
            "  Tsa:                       Not affected\n",
            "  Tsx async abort:           Vulnerable\n"
          ]
        }
      ]
    },
    {
      "cell_type": "code",
      "source": [
        "%%writefile matmul_avx.cpp\n",
        "#include <iostream>\n",
        "#include <chrono>\n",
        "#include <cstdlib>\n",
        "#include <ctime>\n",
        "#include <immintrin.h>\n",
        "\n",
        "using namespace std;\n",
        "\n",
        "\n",
        "void init(float* A, int n, int m, bool zero) {\n",
        "  for (int i = 0; i < n * m; i++) {\n",
        "    A[i] = zero ? 0 : rand() / float(RAND_MAX);\n",
        "  }\n",
        "}\n",
        "\n",
        "float hsum_avx(__m256 X) {\n",
        "  __m128 lo = _mm256_castps256_ps128(X);\n",
        "  __m128 hi = _mm256_extractf128_ps(X, 1);\n",
        "  __m128 sum4 = _mm_add_ps(lo, hi);\n",
        "\n",
        "  sum4 = _mm_hadd_ps(sum4, sum4);\n",
        "  sum4 = _mm_hadd_ps(sum4, sum4);\n",
        "\n",
        "  return _mm_cvtss_f32(sum4);\n",
        "}\n",
        "\n",
        "void avx2_tmm(float* A, float* B, float* C,\n",
        "  uint64_t N) {\n",
        "    for (uint64_t i = 0; i < N; i++) {\n",
        "      for (uint64_t j = 0; j < N; j++) {\n",
        "        __m256 X = _mm256_setzero_ps();\n",
        "        for (uint64_t k = 0; k < N; k += 8) {\n",
        "          const __m256 AV = _mm256_loadu_ps(A + i * N + k);\n",
        "          const __m256 BV = _mm256_loadu_ps(B + j * N + k);\n",
        "          X = _mm256_fmadd_ps(AV, BV, X);\n",
        "        }\n",
        "        C[i * N + j] = hsum_avx(X);\n",
        "      }\n",
        "    }\n",
        "}\n",
        "\n",
        "int main() {\n",
        "  int n = 1024;\n",
        "  float* A = new float[n * n];\n",
        "  float* B = new float[n * n];\n",
        "  float* C = new float[n * n];\n",
        "\n",
        "  init(A, n, n, false);\n",
        "  init(B, n, n, false);\n",
        "  init(C, n, n, true);\n",
        "\n",
        "  auto start = chrono::high_resolution_clock::now();\n",
        "\n",
        "  avx2_tmm(A, B, C, n);\n",
        "\n",
        "  auto end = chrono::high_resolution_clock::now();\n",
        "  chrono::duration<double> diff = end - start;\n",
        "  cout << \"Execution time: \" << diff.count() << \" s\" << endl;\n",
        "  cout << \"C[0][0]: \" << C[0] << endl;\n",
        "\n",
        "  delete[] A;\n",
        "  delete[] B;\n",
        "  delete[] C;\n",
        "}"
      ],
      "metadata": {
        "colab": {
          "base_uri": "https://localhost:8080/"
        },
        "id": "xt258Qk4ARQz",
        "outputId": "f99e8cf5-366d-441b-ecb0-211e49901d5f"
      },
      "execution_count": 42,
      "outputs": [
        {
          "output_type": "stream",
          "name": "stdout",
          "text": [
            "Overwriting matmul_avx.cpp\n"
          ]
        }
      ]
    },
    {
      "cell_type": "code",
      "source": [
        "!g++ -O2 -std=c++11 -mavx2 -mfma -march=native matmul_avx.cpp -o matmul_avx"
      ],
      "metadata": {
        "id": "JABdx_TbDENn"
      },
      "execution_count": 43,
      "outputs": []
    },
    {
      "cell_type": "code",
      "source": [
        "!./matmul_avx"
      ],
      "metadata": {
        "colab": {
          "base_uri": "https://localhost:8080/"
        },
        "id": "56qe0oVIDW0f",
        "outputId": "370f62b3-1457-41df-de49-b71a54fbe51f"
      },
      "execution_count": 44,
      "outputs": [
        {
          "output_type": "stream",
          "name": "stdout",
          "text": [
            "Execution time: 0.20872 s\n",
            "C[0][0]: 264.403\n"
          ]
        }
      ]
    },
    {
      "cell_type": "code",
      "source": [],
      "metadata": {
        "id": "zF7qiaH2Dc7F"
      },
      "execution_count": 44,
      "outputs": []
    }
  ]
}